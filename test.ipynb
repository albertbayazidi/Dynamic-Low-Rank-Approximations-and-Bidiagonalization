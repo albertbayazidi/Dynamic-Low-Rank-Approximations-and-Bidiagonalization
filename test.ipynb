{
 "cells": [
  {
   "cell_type": "code",
   "execution_count": 1,
   "metadata": {},
   "outputs": [],
   "source": [
    "import numpy as np\n",
    "import Example_matrices as ex\n",
    "import dynamic_low_rank as dlr\n",
    "import time_integration_low_rank as tilr\n",
    "import Variable_step_size_integrator as vssi\n",
    "import matplotlib.pyplot as plt"
   ]
  },
  {
   "cell_type": "markdown",
   "metadata": {},
   "source": [
    "## Spørsmål\n",
    "\n",
    "- Hvordan skal man kunne teste dlr?\n",
    "    - hva slags A skal det fungere på\n",
    "    - testing av Fu, gir matrise med elementer på størrelse $10^{-16}$  \n",
    "    - (ekstra) hvordan ser man at B = CD.T\n",
    "    - ks2 blir ikke brukt i time_integration_low_rank\n",
    "    - hva slags A matise skal vi bruke i 3\n",
    "    \n",
    "<br>\n",
    "\n",
    "- Variable solver er litt rar.\n",
    "    - kan ikke konvergere da steglengden kun minkes."
   ]
  },
  {
   "cell_type": "markdown",
   "metadata": {},
   "source": [
    "### Oppgave 3 "
   ]
  },
  {
   "cell_type": "code",
   "execution_count": 2,
   "metadata": {},
   "outputs": [],
   "source": [
    "def g(x,y):\n",
    "    return np.sin(np.pi*x)*np.sin(2*np.pi*y)\n",
    "\n",
    "def u_exact(x,y,t):\n",
    "    return np.exp(-5*np.pi**2*t)*np.sin(np.pi*x)*np.sin(2*np.pi*y)"
   ]
  },
  {
   "cell_type": "code",
   "execution_count": 3,
   "metadata": {},
   "outputs": [
    {
     "name": "stdout",
     "output_type": "stream",
     "text": [
      "sigma:  0.6846762497039606\n",
      "t_new:  0.0\n",
      "t:  0.0\n",
      "sigma:  0.17116906242599\n",
      "t_new:  0.0\n",
      "t:  0.0\n",
      "sigma:  0.04279226560649764\n",
      "t_new:  0.005\n",
      "t:  0.005\n",
      "sigma:  0.05255998740761468\n",
      "t_new:  0.01\n",
      "t:  0.01\n",
      "sigma:  0.03163306724231777\n",
      "t_new:  0.0135\n",
      "t:  0.0135\n",
      "sigma:  0.036545307593406955\n",
      "t_new:  0.017\n",
      "t:  0.017\n",
      "sigma:  0.042220360639262884\n",
      "t_new:  0.0205\n",
      "t:  0.0205\n"
     ]
    }
   ],
   "source": [
    "# test av oppgave 3\n",
    "\n",
    "tol = 1.e-1\n",
    "t0 = 0\n",
    "tf = 0.02\n",
    "h0 = 0.02 # initial step size in vssi\n",
    "N = 5\n",
    "k = 5 # k- rank approx\n",
    "\n",
    "# def grid\n",
    "x = np.linspace(0,1,N)\n",
    "y = np.linspace(0,1,N)\n",
    "X,Y = np.meshgrid(x,y)\n",
    "\n",
    "# def exact soln in t0\n",
    "u_ex_0 = u_exact(X,Y,t0)\n",
    "u_ex_f = u_exact(X,Y,tf)\n",
    "\n",
    "#print(u_ex_0)\n",
    "\n",
    "# Initialize u and u_dot\n",
    "m,n = N,N\n",
    "u0 = tilr.u_fun(g,m,n) \n",
    "u_dot = tilr.u_dot_fun(g,m,n)\n",
    "\n",
    "# specify what method to use\n",
    "method = tilr.second_order_method\n",
    "\n",
    "# do method\n",
    "Y,j = vssi.variable_solver(t0,tf,u0,tol,h0,method,k)\n",
    "\n",
    "Yt = vssi.format_result(u_dot,Y)\n",
    "\n",
    "# print(np.amax(u_ex_0))\n",
    "# print(np.amax(Yt[1,:,:]))\n",
    "# print(np.shape(Yt))\n",
    "# #print(np.linalg.norm(Yt[0,:,:]-u_ex_0))\n",
    "# plt.imshow(u_ex_f)\n",
    "# plt.colorbar()\n",
    "# plt.show()\n",
    "# plt.imshow(Yt[-1,:,:])\n",
    "# plt.colorbar()\n",
    "# plt.show()"
   ]
  },
  {
   "cell_type": "code",
   "execution_count": 4,
   "metadata": {},
   "outputs": [
    {
     "data": {
      "text/plain": [
       "<matplotlib.colorbar.Colorbar at 0x21188e770d0>"
      ]
     },
     "execution_count": 4,
     "metadata": {},
     "output_type": "execute_result"
    },
    {
     "data": {
      "image/png": "[encoded data removed]",
      "text/plain": [
       "<Figure size 432x288 with 2 Axes>"
      ]
     },
     "metadata": {
      "needs_background": "light"
     },
     "output_type": "display_data"
    }
   ],
   "source": [
    "plt.imshow(Yt[-1,:,:])\n",
    "plt.colorbar()"
   ]
  },
  {
   "cell_type": "code",
   "execution_count": 5,
   "metadata": {},
   "outputs": [
    {
     "name": "stdout",
     "output_type": "stream",
     "text": [
      "23.946002728920213\n"
     ]
    }
   ],
   "source": [
    "# test av variable step for oppgave 4\n",
    "\n",
    "t = 1.1\n",
    "h = 1\n",
    "tol = 10\n",
    "k = 100\n",
    "tf = 0.8\n",
    "\n",
    "A = ex.A(0, epsilon = 1/2)\n",
    "A_dot = ex.A_dot(0, epsilon = 1/2)\n",
    "method = dlr.second_order_method\n",
    "\n",
    "Y,j = vssi.variable_solver(0,tf,A,tol,h,method,k)\n",
    "Yt = vssi.format_result(A_dot,Y)\n",
    "\n",
    "print(np.linalg.norm(Yt[-1,:,:]-A,'fro'))"
   ]
  },
  {
   "cell_type": "code",
   "execution_count": null,
   "metadata": {},
   "outputs": [],
   "source": []
  }
 ],
 "metadata": {
  "kernelspec": {
   "display_name": "Python 3",
   "language": "python",
   "name": "python3"
  },
  "language_info": {
   "codemirror_mode": {
    "name": "ipython",
    "version": 3
   },
   "file_extension": ".py",
   "mimetype": "text/x-python",
   "name": "python",
   "nbconvert_exporter": "python",
   "pygments_lexer": "ipython3",
   "version": "3.8.8"
  }
 },
 "nbformat": 4,
 "nbformat_minor": 2
}
