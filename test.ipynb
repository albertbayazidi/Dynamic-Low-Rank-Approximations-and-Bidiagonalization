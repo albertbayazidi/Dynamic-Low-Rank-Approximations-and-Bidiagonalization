{
 "cells": [
  {
   "cell_type": "code",
   "execution_count": 2,
   "metadata": {},
   "outputs": [],
   "source": [
    "import dynamic_low_rank as dlr\n",
    "import numpy as np\n",
    "import matplotlib.pyplot as plt"
   ]
  },
  {
   "cell_type": "code",
   "execution_count": 15,
   "metadata": {},
   "outputs": [
    {
     "data": {
      "text/plain": [
       "<matplotlib.colorbar.Colorbar at 0x7fae4ff72cd0>"
      ]
     },
     "execution_count": 15,
     "metadata": {},
     "output_type": "execute_result"
    },
    {
     "data": {
      "image/png": "[encoded data removed]",
      "text/plain": [
       "<Figure size 640x480 with 2 Axes>"
      ]
     },
     "metadata": {},
     "output_type": "display_data"
    }
   ],
   "source": [
    "def laplace(m,n):\n",
    "    ones = np.ones(m*n)\n",
    "    k = np.min([1/n,1/m]) # dobbelsjekk\n",
    "    L =  1/k**2*(2*np.diag(ones) - np.diag(ones[:-1],-1) - np.diag(ones[:-1],1)) \n",
    "    return L\n",
    "\n",
    "def A_fun(t,n,m):\n",
    "    x = np.linspace(0,1,n)\n",
    "    y = np.linspace(0,1,m)\n",
    "    X,Y = np.meshgrid(x,y)\n",
    "    A = np.exp(-t)*np.sin(np.pi*X)*np.sin(2*np.pi*Y) #removed 5pi^2\n",
    "    return A\n",
    "\n",
    "def A_dot_fun(t,n,m):\n",
    "    A = A_fun(t,n,m)\n",
    "    L = laplace(n,m)\n",
    "    A_dot = L@A.ravel() + A.ravel()@L\n",
    "    return A_dot.reshape(n,m)\n",
    "\n",
    "\n",
    "A_dot = A_dot_fun(0,10,10)\n",
    "plt.imshow(A_dot)\n",
    "plt.colorbar()\n"
   ]
  },
  {
   "cell_type": "code",
   "execution_count": 24,
   "metadata": {},
   "outputs": [
    {
     "name": "stdout",
     "output_type": "stream",
     "text": [
      "[[ 2. -1.  0.  0.  0.  0.  0.  0.  0.]\n",
      " [-1.  2. -1.  0.  0.  0.  0.  0.  0.]\n",
      " [ 0. -1.  2. -1.  0.  0.  0.  0.  0.]\n",
      " [ 0.  0. -1.  2. -1.  0.  0.  0.  0.]\n",
      " [ 0.  0.  0. -1.  2. -1.  0.  0.  0.]\n",
      " [ 0.  0.  0.  0. -1.  2. -1.  0.  0.]\n",
      " [ 0.  0.  0.  0.  0. -1.  2. -1.  0.]\n",
      " [ 0.  0.  0.  0.  0.  0. -1.  2. -1.]\n",
      " [ 0.  0.  0.  0.  0.  0.  0. -1.  2.]]\n",
      "[1 0 0 1 0 0 1 0 0]\n",
      "[[ 2. -1. -1.]\n",
      " [ 2. -1. -1.]\n",
      " [ 2. -1.  0.]]\n"
     ]
    }
   ],
   "source": [
    "def laplace(m,n):\n",
    "    ones = np.ones(m*n)\n",
    "    k = np.min([1/n,1/m]) # dobbelsjekk\n",
    "    L =  (2*np.diag(ones) - np.diag(ones[:-1],-1) - np.diag(ones[:-1],1)) \n",
    "    return L\n",
    "\n",
    "A = np.array([[0,0,0],[0,0,0],[0,0,0]])\n",
    "A[:,0] = 1\n",
    "\n",
    "n,m = A.shape\n",
    "\n",
    "L = laplace(n,m)\n",
    "print(L)\n",
    "print(A.ravel())\n",
    "\n",
    "res = L@A.ravel() \n",
    "\n",
    "print(res.reshape(n,m))"
   ]
  },
  {
   "cell_type": "code",
   "execution_count": null,
   "metadata": {},
   "outputs": [],
   "source": []
  }
 ],
 "metadata": {
  "kernelspec": {
   "display_name": "Python 3",
   "language": "python",
   "name": "python3"
  },
  "language_info": {
   "codemirror_mode": {
    "name": "ipython",
    "version": 3
   },
   "file_extension": ".py",
   "mimetype": "text/x-python",
   "name": "python",
   "nbconvert_exporter": "python",
   "pygments_lexer": "ipython3",
   "version": "3.11.5"
  }
 },
 "nbformat": 4,
 "nbformat_minor": 2
}
