{
 "cells": [
  {
   "cell_type": "code",
   "execution_count": null,
   "metadata": {},
   "outputs": [],
   "source": [
    "import numpy as np\n",
    "import Example_matrices as ex\n",
    "import dynamic_low_rank as dlr\n",
    "import time_integration_low_rank as tilr\n",
    "import Variable_step_size_integrator as vssi"
   ]
  },
  {
   "cell_type": "markdown",
   "metadata": {},
   "source": [
    "## Spørsmål\n",
    "\n",
    "- Hvordan skal man kunne teste dlr?\n",
    "    - hva slags A skal det fungere på\n",
    "    - testing av Fu, gir matrise med elementer på størrelse $10^{-16}$  \n",
    "    - (ekstra) hvordan ser man at B = CD.T\n",
    "<br>\n",
    "\n",
    "- Variable solver er litt rar.\n",
    "    - kan ikke konvergere da steglengden kun minkes.\n",
    "    - Står ikke noe sted i psduokoden at U,S,V skal oppdateres.\n"
   ]
  },
  {
   "cell_type": "code",
   "execution_count": null,
   "metadata": {},
   "outputs": [],
   "source": [
    "# testing av Fu med dlr implementasjon\n",
    "\n",
    "A_dot = ex.A_dot(0, epsilon = 1/2)\n",
    "U, S, V = vssi.construct_U_S_V_0(A_dot)\n",
    "\n",
    "A_dot = np.array([[1,2,3],\n",
    "                  [4,5,6],\n",
    "                  [7,8,9]])\n",
    "\n",
    "U, S, V = vssi.construct_U_S_V_0(A_dot)\n",
    "\n",
    "def FU(U,A_dot,V,S):\n",
    "    I_mm = np.eye(U.shape[0])\n",
    "    return (I_mm-U@U.T)@A_dot@V@np.linalg.inv(S)\n",
    "\n",
    "FUj = FU(U,A_dot,V,S)\n",
    "\n",
    "print(FUj)\n"
   ]
  },
  {
   "cell_type": "code",
   "execution_count": null,
   "metadata": {},
   "outputs": [],
   "source": [
    "h = 0.5\n",
    "t = 1\n",
    "tol = 50\n",
    "A_dot = ex.A_dot(0, epsilon = 1/2)\n",
    "U, S, V = vssi.construct_U_S_V_0(A_dot)"
   ]
  },
  {
   "cell_type": "code",
   "execution_count": null,
   "metadata": {},
   "outputs": [],
   "source": [
    "# test av dynamic_low_rank\n",
    "vals = dlr.second_order_method(h,t,U,V,S)"
   ]
  },
  {
   "cell_type": "code",
   "execution_count": null,
   "metadata": {},
   "outputs": [],
   "source": [
    "# test av variable step size integrator for dynamic low rank\n",
    "\n",
    "# never convergeces\n",
    "U1,S1,V1,j = vssi.variable_solver(0,1.5,A_dot,tol,1,dlr.second_order_method)"
   ]
  },
  {
   "cell_type": "code",
   "execution_count": 6,
   "metadata": {},
   "outputs": [],
   "source": [
    "# test av time_integration_low_rank.py\n",
    "vals = tilr.second_order_method(0.5,t,U,V,S)"
   ]
  },
  {
   "cell_type": "code",
   "execution_count": 7,
   "metadata": {},
   "outputs": [
    {
     "name": "stdout",
     "output_type": "stream",
     "text": [
      "count 0 j 0 t 0 h 0.5 u 9.999999999999998 v 10.0 s 56.16533237124035\n",
      "count 0 j 1 t 0.5 h 1.0 u 9.999999999999998 v 10.0 s 56.16533237124035\n"
     ]
    }
   ],
   "source": [
    "# test av variable step size integrator for time_integration_low_rank.py\n",
    "\n",
    "U1,S1,V1,j = vssi.variable_solver(0,1,A_dot,tol,0.5,tilr.second_order_method)\n",
    "\n",
    "A_approx = U1@S1@V1.T\n"
   ]
  },
  {
   "cell_type": "code",
   "execution_count": null,
   "metadata": {},
   "outputs": [],
   "source": [
    "print(A_approx)"
   ]
  }
 ],
 "metadata": {
  "kernelspec": {
   "display_name": "Python 3",
   "language": "python",
   "name": "python3"
  },
  "language_info": {
   "codemirror_mode": {
    "name": "ipython",
    "version": 3
   },
   "file_extension": ".py",
   "mimetype": "text/x-python",
   "name": "python",
   "nbconvert_exporter": "python",
   "pygments_lexer": "ipython3",
   "version": "3.11.5"
  }
 },
 "nbformat": 4,
 "nbformat_minor": 2
}
