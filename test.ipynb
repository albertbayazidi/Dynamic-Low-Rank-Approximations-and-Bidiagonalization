{
 "cells": [
  {
   "cell_type": "code",
   "execution_count": 1,
   "metadata": {},
   "outputs": [],
   "source": [
    "import numpy as np\n",
    "import Example_matrices as ex\n",
    "import dynamic_low_rank as dlr\n",
    "import time_integration_low_rank as tilr\n",
    "import Variable_step_size_integrator as vssi"
   ]
  },
  {
   "cell_type": "markdown",
   "metadata": {},
   "source": [
    "## Spørsmål\n",
    "\n",
    "- Hvordan skal man kunne teste dlr?\n",
    "    - hva slags A skal det fungere på\n",
    "    - testing av Fu, gir matrise med elementer på størrelse $10^{-16}$  \n",
    "    - (ekstra) hvordan ser man at B = CD.T\n",
    "<br>\n",
    "\n",
    "- Variable solver er litt rar.\n",
    "    - kan ikke konvergere da steglengden kun minkes."
   ]
  },
  {
   "cell_type": "code",
   "execution_count": 2,
   "metadata": {},
   "outputs": [],
   "source": [
    "# testing av Fu med dlr implementasjon\n",
    "\n",
    "A_dot = ex.A_dot(0, epsilon = 1/2)\n",
    "\n",
    "# make 4x4 matrix\n",
    "A_dot = np.array([[5,2,2],\n",
    "                  [2,5,2],\n",
    "                  [2,2,5]])\n",
    "\n",
    "\n"
   ]
  },
  {
   "cell_type": "code",
   "execution_count": 4,
   "metadata": {},
   "outputs": [
    {
     "name": "stdout",
     "output_type": "stream",
     "text": [
      "55.63403696289675\n"
     ]
    }
   ],
   "source": [
    "# test av variable step size integrator for dynamic low rank\n",
    "\n",
    "t = 1.1\n",
    "h = 1\n",
    "tol = 10\n",
    "k = 50\n",
    "tf = 0.8\n",
    "\n",
    "A = ex.A(0, epsilon = 1/2)\n",
    "A_dot = ex.A_dot(0, epsilon = 1/2)\n",
    "U, S, V = vssi.construct_U_S_V_0_k(A_dot,3)\n",
    "\n",
    "Y,j = vssi.variable_solver(0,tf,A_dot,tol,h,dlr.second_order_method,k)\n",
    "Yt = vssi.format_result(A_dot,Y)\n",
    "\n",
    "print(np.linalg.norm(Yt[0,:,:]-A))"
   ]
  },
  {
   "cell_type": "code",
   "execution_count": 5,
   "metadata": {},
   "outputs": [
    {
     "name": "stdout",
     "output_type": "stream",
     "text": [
      "15846.65888209858\n"
     ]
    }
   ],
   "source": [
    "# test av variable step size integrator for time_integration_low_rank.py\n",
    "t0 = 0\n",
    "m = 10\n",
    "n = 10\n",
    "tf = 1\n",
    "k = 8\n",
    "\n",
    "A = tilr.A_fun(t0,m,n)\n",
    "A_dot = tilr.A_dot_fun(t0,m,n)\n",
    "\n",
    "Y,j = vssi.variable_solver(t0,tf,A_dot,tol,h,tilr.second_order_method,k)\n",
    "Yt = vssi.format_result(A_dot,Y)\n",
    "\n",
    "\n",
    "print(np.linalg.norm(Yt-A))"
   ]
  }
 ],
 "metadata": {
  "kernelspec": {
   "display_name": "Python 3",
   "language": "python",
   "name": "python3"
  },
  "language_info": {
   "codemirror_mode": {
    "name": "ipython",
    "version": 3
   },
   "file_extension": ".py",
   "mimetype": "text/x-python",
   "name": "python",
   "nbconvert_exporter": "python",
   "pygments_lexer": "ipython3",
   "version": "3.11.5"
  }
 },
 "nbformat": 4,
 "nbformat_minor": 2
}
