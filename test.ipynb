{
 "cells": [
  {
   "cell_type": "code",
   "execution_count": 1,
   "metadata": {},
   "outputs": [],
   "source": [
    "import numpy as np\n",
    "import Example_matrices as ex\n",
    "import dynamic_low_rank as dlr\n",
    "import time_integration_low_rank as tilr\n",
    "import Variable_step_size_integrator as vssi\n",
    "import matplotlib.pyplot as plt"
   ]
  },
  {
   "cell_type": "markdown",
   "metadata": {},
   "source": [
    "## Spørsmål\n",
    "\n",
    "- Hvordan skal man kunne teste dlr?\n",
    "    - hva slags A skal det fungere på\n",
    "    - testing av Fu, gir matrise med elementer på størrelse $10^{-16}$  \n",
    "    - (ekstra) hvordan ser man at B = CD.T\n",
    "    - ks2 blir ikke brukt i time_integration_low_rank\n",
    "    - hva slags A matise skal vi bruke i 3\n",
    "    \n",
    "<br>\n",
    "\n",
    "- Variable solver er litt rar.\n",
    "    - kan ikke konvergere da steglengden kun minkes."
   ]
  },
  {
   "cell_type": "code",
   "execution_count": 2,
   "metadata": {},
   "outputs": [],
   "source": [
    "# testing av Fu med dlr implementasjon\n",
    "\n",
    "A = ex.A(0, epsilon = 1/2)\n",
    "A_dot = ex.A_dot(0, epsilon = 1/2)\n",
    "\n",
    "k = 10\n",
    "\n",
    "U, S, V = vssi.construct_U_S_V_0_k(k,A)\n",
    "\n",
    "# test av Fu\n",
    "FUJ = dlr.FU(U,A_dot,V,S)\n"
   ]
  },
  {
   "cell_type": "code",
   "execution_count": 3,
   "metadata": {},
   "outputs": [
    {
     "name": "stdout",
     "output_type": "stream",
     "text": [
      "23.9346293574308\n"
     ]
    }
   ],
   "source": [
    "# test av variable step size integrator for dynamic low rank\n",
    "\n",
    "t = 1.1\n",
    "h = 1\n",
    "tol = 10\n",
    "k = 100\n",
    "tf = 0.8\n",
    "\n",
    "A = ex.A(0, epsilon = 1/2)\n",
    "A_dot = ex.A_dot(0, epsilon = 1/2)\n",
    "\n",
    "Y,j = vssi.variable_solver(0,tf,A,tol,h,dlr.second_order_method,k)\n",
    "Yt = vssi.format_result(A_dot,Y)\n",
    "\n",
    "print(np.linalg.norm(Yt[-1,:,:]-A,'fro'))\n",
    "\n",
    "\n"
   ]
  },
  {
   "cell_type": "code",
   "execution_count": 12,
   "metadata": {},
   "outputs": [],
   "source": [
    "def g(x,y):\n",
    "    return np.sin(np.pi*x)*np.sin(2*np.pi*y)\n",
    "\n",
    "def u_exact(x,y,t):\n",
    "    return np.exp(-5*np.pi**2*t)*np.sin(np.pi*x)*np.sin(2*np.pi*y)\n",
    "\n",
    "x = np.linspace(0,1,10)\n",
    "y = np.linspace(0,1,10)\n",
    "X,Y = np.meshgrid(x,y)\n",
    "t = 0\n",
    "\n",
    "u = u_exact(X,Y,t)\n"
   ]
  },
  {
   "cell_type": "code",
   "execution_count": 17,
   "metadata": {},
   "outputs": [
    {
     "name": "stdout",
     "output_type": "stream",
     "text": [
      "4.499999999999999\n"
     ]
    }
   ],
   "source": [
    "\n",
    "tol = 0.01\n",
    "t0 = 0\n",
    "tf = 1\n",
    "h = 1\n",
    "\n",
    "k = 10\n",
    "m,n = 10,10\n",
    "\n",
    "u0 = tilr.u_fun(g,m,n) # u0\n",
    "\n",
    "u_dot = tilr.u_dot_fun(g,m,n)\n",
    "method = tilr.second_order_method\n",
    "\n",
    "Y,j = vssi.variable_solver(t0,tf,u0,tol,h,method,k)\n",
    "\n",
    "Yt = vssi.format_result(u_dot,Y)\n",
    "print(np.linalg.norm(Yt[0,:,:]-u))\n"
   ]
  },
  {
   "cell_type": "code",
   "execution_count": 20,
   "metadata": {},
   "outputs": [
    {
     "data": {
      "text/plain": [
       "<matplotlib.colorbar.Colorbar at 0x7f2133529890>"
      ]
     },
     "execution_count": 20,
     "metadata": {},
     "output_type": "execute_result"
    },
    {
     "data": {
      "image/png": "[encoded data removed]",
      "text/plain": [
       "<Figure size 640x480 with 2 Axes>"
      ]
     },
     "metadata": {},
     "output_type": "display_data"
    }
   ],
   "source": [
    "plt.imshow(Yt[-1,:,:])\n",
    "plt.colorbar()"
   ]
  },
  {
   "cell_type": "code",
   "execution_count": null,
   "metadata": {},
   "outputs": [],
   "source": []
  }
 ],
 "metadata": {
  "kernelspec": {
   "display_name": "Python 3",
   "language": "python",
   "name": "python3"
  },
  "language_info": {
   "codemirror_mode": {
    "name": "ipython",
    "version": 3
   },
   "file_extension": ".py",
   "mimetype": "text/x-python",
   "name": "python",
   "nbconvert_exporter": "python",
   "pygments_lexer": "ipython3",
   "version": "3.11.5"
  }
 },
 "nbformat": 4,
 "nbformat_minor": 2
}
