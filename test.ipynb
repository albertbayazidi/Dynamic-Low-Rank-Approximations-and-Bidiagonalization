{
 "cells": [
  {
   "cell_type": "code",
   "execution_count": 1,
   "metadata": {},
   "outputs": [],
   "source": [
    "import numpy as np\n",
    "import Example_matrices as ex\n",
    "import dynamic_low_rank as dlr\n",
    "import time_integration_low_rank as tilr\n",
    "import Variable_step_size_integrator as vssi"
   ]
  },
  {
   "cell_type": "markdown",
   "metadata": {},
   "source": [
    "## Spørsmål\n",
    "\n",
    "- Hvordan skal man kunne teste dlr?\n",
    "    - hva slags A skal det fungere på\n",
    "    - testing av Fu, gir matrise med elementer på størrelse $10^{-16}$  \n",
    "    - (ekstra) hvordan ser man at B = CD.T\n",
    "<br>\n",
    "\n",
    "- Variable solver er litt rar.\n",
    "    - kan ikke konvergere da steglengden kun minkes."
   ]
  },
  {
   "cell_type": "code",
   "execution_count": 2,
   "metadata": {},
   "outputs": [],
   "source": [
    "# testing av Fu med dlr implementasjon\n",
    "\n",
    "A_dot = ex.A_dot(0, epsilon = 1/2)\n",
    "\n",
    "# make 4x4 matrix\n",
    "A_dot = np.array([[5,2,2],\n",
    "                  [2,5,2],\n",
    "                  [2,2,5]])\n"
   ]
  },
  {
   "cell_type": "code",
   "execution_count": 3,
   "metadata": {},
   "outputs": [
    {
     "name": "stdout",
     "output_type": "stream",
     "text": [
      "count 0 j 0 t 0 h 1 u 7.071 v 7.071 s 54.477 \n",
      "\n",
      "action 1 sigma 50.534280142321684 tol 10\n",
      "count 1 j 0 t 0 h 0.5 u 7.071 v 7.071 s 54.477 \n",
      "\n",
      "action 1 sigma 28.775884457124743 tol 10\n",
      "count 2 j 0 t 0.0 h 0.25 u 7.071 v 7.071 s 54.477 \n",
      "\n",
      "action 1 sigma 14.666780553440674 tol 10\n",
      "count 3 j 0 t 0.0 h 0.125 u 7.071 v 7.071 s 54.477 \n",
      "\n",
      "action 2 sigma 7.351868352692658 tol 10\n",
      "count 0 j 1 t 0.125 h 0.0875 u 7.071 v 7.071 s 57.201 \n",
      "\n",
      "action 2 sigma 5.331779185743156 tol 10\n",
      "count 0 j 2 t 0.2125 h 0.06124999999999999 u 7.071 v 7.071 s 59.098 \n",
      "\n",
      "action 3 sigma 3.6068802009450076 tol 0.625\n",
      "count 0 j 3 t 0.27375 h 0.06124999999999999 u 7.071 v 7.071 s 60.57 \n",
      "\n",
      "action 3 sigma 3.558196609761934 tol 0.625\n",
      "count 0 j 4 t 0.33499999999999996 h 0.06124999999999999 u 7.071 v 7.071 s 61.994 \n",
      "\n",
      "action 3 sigma 3.269678265598908 tol 0.625\n",
      "count 0 j 5 t 0.39624999999999994 h 0.06124999999999999 u 7.071 v 7.071 s 63.375 \n",
      "\n",
      "action 3 sigma 3.095610860678435 tol 0.625\n",
      "count 0 j 6 t 0.4574999999999999 h 0.06124999999999999 u 7.071 v 7.071 s 64.724 \n",
      "\n",
      "action 3 sigma 2.822377180970013 tol 0.625\n",
      "count 0 j 7 t 0.5187499999999999 h 0.06124999999999999 u 7.071 v 7.071 s 65.968 \n",
      "\n",
      "action 3 sigma 2.5329663238143745 tol 0.625\n",
      "count 0 j 8 t 0.58 h 0.06124999999999999 u 7.071 v 7.071 s 67.102 \n",
      "\n",
      "action 3 sigma 2.2396455261383967 tol 0.625\n",
      "count 0 j 9 t 0.64125 h 0.06124999999999999 u 7.071 v 7.071 s 68.105 \n",
      "\n",
      "action 3 sigma 1.956450230143891 tol 0.625\n",
      "count 0 j 10 t 0.7025 h 0.06124999999999999 u 7.071 v 7.071 s 68.983 \n",
      "\n",
      "action 3 sigma 1.6000758570696731 tol 0.625\n",
      "count 0 j 11 t 0.76375 h 0.06124999999999999 u 7.071 v 7.071 s 69.703 \n",
      "\n",
      "action 3 sigma 1.2352469449771777 tol 0.625\n",
      "55.26301564313042\n"
     ]
    }
   ],
   "source": [
    "# test av variable step size integrator for dynamic low rank\n",
    "\n",
    "t = 1.1\n",
    "h = 1\n",
    "tol = 10\n",
    "k = 50\n",
    "tf = 0.8\n",
    "\n",
    "A = ex.A(0, epsilon = 1/2)\n",
    "A_dot = ex.A_dot(0, epsilon = 1/2)\n",
    "U, S, V = vssi.construct_U_S_V_0_k(A_dot,3)\n",
    "\n",
    "Y,j = vssi.variable_solver(0,tf,A_dot,tol,h,dlr.second_order_method,k)\n",
    "Yt = vssi.format_result(A_dot,Y)\n",
    "\n",
    "print(np.linalg.norm(Yt[0,:,:]-A))"
   ]
  },
  {
   "cell_type": "code",
   "execution_count": 4,
   "metadata": {},
   "outputs": [],
   "source": [
    "# test av time_integration_low_rank.py\n",
    "vals = tilr.second_order_method(0.5,t,U,V,S)"
   ]
  },
  {
   "cell_type": "code",
   "execution_count": 5,
   "metadata": {},
   "outputs": [
    {
     "name": "stdout",
     "output_type": "stream",
     "text": [
      "count 0 j 0 t 0 h 1 u 2.828 v 2.828 s 264.837 \n",
      "\n",
      "15846.65888209858\n"
     ]
    }
   ],
   "source": [
    "# test av variable step size integrator for time_integration_low_rank.py\n",
    "t0 = 0\n",
    "m = 10\n",
    "n = 10\n",
    "tf = 1\n",
    "k = 8\n",
    "\n",
    "A = tilr.A_fun(t0,m,n)\n",
    "A_dot = tilr.A_dot_fun(t0,m,n)\n",
    "\n",
    "Y,j = vssi.variable_solver(t0,tf,A_dot,tol,h,tilr.second_order_method,k)\n",
    "Yt = vssi.format_result(A_dot,Y)\n",
    "\n",
    "\n",
    "print(np.linalg.norm(Yt-A))"
   ]
  }
 ],
 "metadata": {
  "kernelspec": {
   "display_name": "Python 3",
   "language": "python",
   "name": "python3"
  },
  "language_info": {
   "codemirror_mode": {
    "name": "ipython",
    "version": 3
   },
   "file_extension": ".py",
   "mimetype": "text/x-python",
   "name": "python",
   "nbconvert_exporter": "python",
   "pygments_lexer": "ipython3",
   "version": "3.11.5"
  }
 },
 "nbformat": 4,
 "nbformat_minor": 2
}
