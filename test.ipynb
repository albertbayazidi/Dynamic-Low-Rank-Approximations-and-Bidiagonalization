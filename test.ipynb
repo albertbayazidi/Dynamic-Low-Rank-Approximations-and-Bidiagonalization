{
 "cells": [
  {
   "cell_type": "code",
   "execution_count": 1,
   "metadata": {},
   "outputs": [],
   "source": [
    "import numpy as np\n",
    "import Example_matrices as ex\n",
    "import dynamic_low_rank as dlr\n",
    "import time_integration_low_rank as tilr\n",
    "import Variable_step_size_integrator as vssi"
   ]
  },
  {
   "cell_type": "markdown",
   "metadata": {},
   "source": [
    "## Spørsmål\n",
    "\n",
    "- Hvordan skal man kunne teste dlr?\n",
    "    - hva slags A skal det fungere på\n",
    "    - testing av Fu, gir matrise med elementer på størrelse $10^{-16}$  \n",
    "    - (ekstra) hvordan ser man at B = CD.T\n",
    "<br>\n",
    "\n",
    "- Variable solver er litt rar.\n",
    "    - kan ikke konvergere da steglengden kun minkes."
   ]
  },
  {
   "cell_type": "code",
   "execution_count": 3,
   "metadata": {},
   "outputs": [
    {
     "name": "stdout",
     "output_type": "stream",
     "text": [
      "[[ 0.39534449  0.46453388  0.15249754]\n",
      " [ 0.46453388  0.64311625 -0.11715807]\n",
      " [ 0.15249754 -0.11715807  0.96153926]]\n"
     ]
    }
   ],
   "source": [
    "# testing av Fu med dlr implementasjon\n",
    "\n",
    "A_dot = ex.A_dot(0, epsilon = 1/2)\n",
    "U, S, V = vssi.construct_U_S_V_0(A_dot)\n",
    "\n",
    "A_dot = np.array([[1,2,3],\n",
    "                  [4,5,6],\n",
    "                  [3,8,8]])\n",
    "\n",
    "U, S, V = vssi.construct_U_S_V_0_k(A_dot,2)\n",
    "\n",
    "print(U@U.T)\n",
    "\n",
    "\n",
    "\n",
    "\n"
   ]
  },
  {
   "cell_type": "code",
   "execution_count": 9,
   "metadata": {},
   "outputs": [],
   "source": [
    "t = 1.1\n",
    "h = 1\n",
    "tol = 10\n",
    "A = ex.A(0, epsilon = 1/2)\n",
    "A_dot = ex.A_dot(0, epsilon = 1/2)\n",
    "U, S, V = vssi.construct_U_S_V_0(A_dot)"
   ]
  },
  {
   "cell_type": "code",
   "execution_count": 10,
   "metadata": {},
   "outputs": [],
   "source": [
    "# test av dynamic_low_rank\n",
    "vals = dlr.second_order_method(h,t,U,V,S)"
   ]
  },
  {
   "cell_type": "code",
   "execution_count": 11,
   "metadata": {},
   "outputs": [
    {
     "name": "stdout",
     "output_type": "stream",
     "text": [
      "count 0 j 0 t 0 h 1 u 10.0 v 10.0 s 56.682 \n",
      "\n",
      "action 1 sigma 58.49983172547196 tol 10\n",
      "count 1 j 0 t 0 h 0.5 u 10.0 v 10.0 s 56.682 \n",
      "\n",
      "action 1 sigma 32.45902603993742 tol 10\n",
      "count 2 j 0 t 0.0 h 0.25 u 10.0 v 10.0 s 56.682 \n",
      "\n",
      "action 1 sigma 16.255004979248746 tol 10\n",
      "count 3 j 0 t 0.0 h 0.125 u 10.0 v 10.0 s 56.682 \n",
      "\n",
      "action 2 sigma 8.187095202766255 tol 10\n",
      "count 0 j 1 t 0.125 h 0.0875 u 10.0 v 10.0 s 59.538 \n",
      "\n",
      "action 2 sigma 5.941227156449761 tol 10\n",
      "count 0 j 2 t 0.2125 h 0.06124999999999999 u 10.0 v 10.0 s 61.64 \n",
      "\n",
      "action 3 sigma 4.031242398388025 tol 0.625\n",
      "count 0 j 3 t 0.27375 h 0.06124999999999999 u 10.0 v 10.0 s 63.066 \n",
      "\n",
      "action 3 sigma 3.9448056826615847 tol 0.625\n",
      "count 0 j 4 t 0.33499999999999996 h 0.06124999999999999 u 10.0 v 10.0 s 64.556 \n",
      "\n",
      "action 3 sigma 3.7788796795093673 tol 0.625\n",
      "count 0 j 5 t 0.39624999999999994 h 0.06124999999999999 u 10.0 v 10.0 s 65.984 \n",
      "\n",
      "action 3 sigma 3.442243906970833 tol 0.625\n",
      "count 0 j 6 t 0.4574999999999999 h 0.06124999999999999 u 10.0 v 10.0 s 67.281 \n",
      "\n",
      "action 3 sigma 3.2065661270871817 tol 0.625\n",
      "count 0 j 7 t 0.5187499999999999 h 0.06124999999999999 u 10.0 v 10.0 s 68.549 \n",
      "\n",
      "action 3 sigma 2.92116686131768 tol 0.625\n",
      "count 0 j 8 t 0.58 h 0.06124999999999999 u 10.0 v 10.0 s 69.706 \n",
      "\n",
      "action 3 sigma 2.5121589711711265 tol 0.625\n",
      "count 0 j 9 t 0.64125 h 0.06124999999999999 u 10.0 v 10.0 s 70.75 \n",
      "\n",
      "action 3 sigma 2.13583211300035 tol 0.625\n",
      "count 0 j 10 t 0.7025 h 0.06124999999999999 u 10.0 v 10.0 s 71.637 \n",
      "\n",
      "action 3 sigma 1.7762900816618 tol 0.625\n",
      "count 0 j 11 t 0.76375 h 0.06124999999999999 u 10.0 v 10.0 s 72.326 \n",
      "\n",
      "action 3 sigma 1.3741674581660595 tol 0.625\n",
      "count 0 j 12 t 0.8250000000000001 h 0.06124999999999999 u 10.0 v 10.0 s 72.887 \n",
      "\n",
      "action 3 sigma 1.0715420547324366 tol 0.625\n",
      "count 0 j 13 t 0.8862500000000001 h 0.06124999999999999 u 10.0 v 10.0 s 73.318 \n",
      "\n",
      "action 3 sigma 0.7710570510252316 tol 0.625\n",
      "count 0 j 14 t 0.9475000000000001 h 0.06124999999999999 u 10.0 v 10.0 s 73.623 \n",
      "\n"
     ]
    }
   ],
   "source": [
    "# test av variable step size integrator for dynamic low rank\n",
    "\n",
    "# never convergeces\n",
    "U1,S1,V1,j = vssi.variable_solver(0,1,A_dot,tol,h,dlr.second_order_method)"
   ]
  },
  {
   "cell_type": "code",
   "execution_count": 12,
   "metadata": {},
   "outputs": [
    {
     "name": "stdout",
     "output_type": "stream",
     "text": [
      "92.53311630703188\n"
     ]
    }
   ],
   "source": [
    "print(np.linalg.norm(U1@S1@V1-A))"
   ]
  },
  {
   "cell_type": "code",
   "execution_count": 6,
   "metadata": {},
   "outputs": [],
   "source": [
    "# test av time_integration_low_rank.py\n",
    "vals = tilr.second_order_method(0.5,t,U,V,S)"
   ]
  },
  {
   "cell_type": "code",
   "execution_count": 7,
   "metadata": {},
   "outputs": [
    {
     "name": "stdout",
     "output_type": "stream",
     "text": [
      "count 0 j 0 t 0 h 0.5 u 10.0 v 10.0 s 56.114 \n",
      "\n",
      "count 0 j 1 t 0.5 h 1.0 u 10.0 v 10.0 s 1425201.583 \n",
      "\n",
      "3707208099116251.5\n"
     ]
    }
   ],
   "source": [
    "# test av variable step size integrator for time_integration_low_rank.py\n",
    "\n",
    "U1,S1,V1,j = vssi.variable_solver(0,1,A_dot,tol,0.5,tilr.second_order_method)\n",
    "\n",
    "A_approx = U1@S1@V1.T\n",
    "\n",
    "print(np.linalg.norm(A_approx-A))"
   ]
  }
 ],
 "metadata": {
  "kernelspec": {
   "display_name": "Python 3",
   "language": "python",
   "name": "python3"
  },
  "language_info": {
   "codemirror_mode": {
    "name": "ipython",
    "version": 3
   },
   "file_extension": ".py",
   "mimetype": "text/x-python",
   "name": "python",
   "nbconvert_exporter": "python",
   "pygments_lexer": "ipython3",
   "version": "3.11.5"
  }
 },
 "nbformat": 4,
 "nbformat_minor": 2
}
